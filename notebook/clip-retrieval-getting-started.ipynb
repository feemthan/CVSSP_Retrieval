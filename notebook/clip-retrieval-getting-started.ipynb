{
  "cells": [
    {
      "cell_type": "markdown",
      "metadata": {
        "id": "uT9FwUjk_lRD"
      },
      "source": [
        "## Install"
      ]
    },
    {
      "cell_type": "code",
      "execution_count": 1,
      "metadata": {
        "colab": {
          "base_uri": "https://localhost:8080/"
        },
        "id": "LIJwsAPIjvnX",
        "outputId": "a8ea45f0-0cf7-4b5c-836a-c7c4f5bbed1f"
      },
      "outputs": [
        {
          "name": "stdout",
          "output_type": "stream",
          "text": [
            "Collecting clip-retrieval\n",
            "  Downloading clip_retrieval-2.44.0-py3-none-any.whl.metadata (28 kB)\n",
            "Requirement already satisfied: img2dataset in /home/faheem/miniconda3/envs/clip/lib/python3.8/site-packages (1.45.0)\n",
            "Requirement already satisfied: clip-anytorch<3,>=2.5.0 in /home/faheem/miniconda3/envs/clip/lib/python3.8/site-packages (from clip-retrieval) (2.6.0)\n",
            "Requirement already satisfied: tqdm<5,>=4.62.3 in /home/faheem/miniconda3/envs/clip/lib/python3.8/site-packages (from clip-retrieval) (4.66.4)\n",
            "Requirement already satisfied: fire<0.6.0,>=0.4.0 in /home/faheem/miniconda3/envs/clip/lib/python3.8/site-packages (from clip-retrieval) (0.5.0)\n",
            "Requirement already satisfied: torch<3,>=1.7.1 in /home/faheem/miniconda3/envs/clip/lib/python3.8/site-packages (from clip-retrieval) (2.3.1)\n",
            "Requirement already satisfied: torchvision<2,>=0.10.1 in /home/faheem/miniconda3/envs/clip/lib/python3.8/site-packages (from clip-retrieval) (0.18.1)\n",
            "Requirement already satisfied: numpy<2,>=1.19.5 in /home/faheem/miniconda3/envs/clip/lib/python3.8/site-packages (from clip-retrieval) (1.24.4)\n",
            "Requirement already satisfied: faiss-cpu<2,>=1.7.2 in /home/faheem/miniconda3/envs/clip/lib/python3.8/site-packages (from clip-retrieval) (1.8.0.post1)\n",
            "Requirement already satisfied: flask<4,>=3.0.0 in /home/faheem/miniconda3/envs/clip/lib/python3.8/site-packages (from clip-retrieval) (3.0.3)\n",
            "Requirement already satisfied: flask-restful<1,>=0.3.9 in /home/faheem/miniconda3/envs/clip/lib/python3.8/site-packages (from clip-retrieval) (0.3.10)\n",
            "Requirement already satisfied: flask-cors<5,>=4.0.0 in /home/faheem/miniconda3/envs/clip/lib/python3.8/site-packages (from clip-retrieval) (4.0.1)\n",
            "Requirement already satisfied: pandas<3,>=1.1.5 in /home/faheem/miniconda3/envs/clip/lib/python3.8/site-packages (from clip-retrieval) (2.0.3)\n",
            "Collecting pyarrow<15,>=6.0.1 (from clip-retrieval)\n",
            "  Downloading pyarrow-14.0.2-cp38-cp38-manylinux_2_28_x86_64.whl.metadata (3.0 kB)\n",
            "Requirement already satisfied: autofaiss<3,>=2.9.6 in /home/faheem/miniconda3/envs/clip/lib/python3.8/site-packages (from clip-retrieval) (2.17.0)\n",
            "Requirement already satisfied: webdataset<0.3,>=0.2 in /home/faheem/miniconda3/envs/clip/lib/python3.8/site-packages (from clip-retrieval) (0.2.86)\n",
            "Requirement already satisfied: h5py<4,>=3.1.0 in /home/faheem/miniconda3/envs/clip/lib/python3.8/site-packages (from clip-retrieval) (3.11.0)\n",
            "Requirement already satisfied: prometheus-client<1,>=0.13.1 in /home/faheem/miniconda3/envs/clip/lib/python3.8/site-packages (from clip-retrieval) (0.20.0)\n",
            "Requirement already satisfied: fsspec in /home/faheem/miniconda3/envs/clip/lib/python3.8/site-packages (from clip-retrieval) (2024.6.1)\n",
            "Requirement already satisfied: sentence-transformers<3,>=2.2.0 in /home/faheem/miniconda3/envs/clip/lib/python3.8/site-packages (from clip-retrieval) (2.7.0)\n",
            "Requirement already satisfied: wandb<0.17,>=0.12.0 in /home/faheem/miniconda3/envs/clip/lib/python3.8/site-packages (from clip-retrieval) (0.16.6)\n",
            "Requirement already satisfied: open-clip-torch<3.0.0,>=2.0.0 in /home/faheem/miniconda3/envs/clip/lib/python3.8/site-packages (from clip-retrieval) (2.20.0)\n",
            "Requirement already satisfied: requests<3,>=2.27.1 in /home/faheem/miniconda3/envs/clip/lib/python3.8/site-packages (from clip-retrieval) (2.32.3)\n",
            "Requirement already satisfied: aiohttp<4,>=3.8.1 in /home/faheem/miniconda3/envs/clip/lib/python3.8/site-packages (from clip-retrieval) (3.9.5)\n",
            "Requirement already satisfied: multilingual-clip<2,>=1.0.10 in /home/faheem/miniconda3/envs/clip/lib/python3.8/site-packages (from clip-retrieval) (1.0.10)\n",
            "Requirement already satisfied: transformers in /home/faheem/miniconda3/envs/clip/lib/python3.8/site-packages (from clip-retrieval) (4.39.3)\n",
            "Collecting urllib3<2 (from clip-retrieval)\n",
            "  Using cached urllib3-1.26.19-py2.py3-none-any.whl.metadata (49 kB)\n",
            "Requirement already satisfied: scipy<1.12 in /home/faheem/miniconda3/envs/clip/lib/python3.8/site-packages (from clip-retrieval) (1.10.1)\n",
            "Requirement already satisfied: all-clip<2 in /home/faheem/miniconda3/envs/clip/lib/python3.8/site-packages (from clip-retrieval) (1.2.0)\n",
            "Requirement already satisfied: opencv-python-headless<5,>=4.5.5.62 in /home/faheem/miniconda3/envs/clip/lib/python3.8/site-packages (from img2dataset) (4.10.0.84)\n",
            "Requirement already satisfied: exifread-nocycle<4,>=3.0.1 in /home/faheem/miniconda3/envs/clip/lib/python3.8/site-packages (from img2dataset) (3.0.1)\n",
            "Requirement already satisfied: albumentations<2,>=1.1.0 in /home/faheem/miniconda3/envs/clip/lib/python3.8/site-packages (from img2dataset) (1.4.10)\n",
            "Requirement already satisfied: dataclasses<1.0.0,>=0.6 in /home/faheem/miniconda3/envs/clip/lib/python3.8/site-packages (from img2dataset) (0.6)\n",
            "Requirement already satisfied: aiosignal>=1.1.2 in /home/faheem/miniconda3/envs/clip/lib/python3.8/site-packages (from aiohttp<4,>=3.8.1->clip-retrieval) (1.3.1)\n",
            "Requirement already satisfied: attrs>=17.3.0 in /home/faheem/miniconda3/envs/clip/lib/python3.8/site-packages (from aiohttp<4,>=3.8.1->clip-retrieval) (23.2.0)\n",
            "Requirement already satisfied: frozenlist>=1.1.1 in /home/faheem/miniconda3/envs/clip/lib/python3.8/site-packages (from aiohttp<4,>=3.8.1->clip-retrieval) (1.4.1)\n",
            "Requirement already satisfied: multidict<7.0,>=4.5 in /home/faheem/miniconda3/envs/clip/lib/python3.8/site-packages (from aiohttp<4,>=3.8.1->clip-retrieval) (6.0.5)\n",
            "Requirement already satisfied: yarl<2.0,>=1.0 in /home/faheem/miniconda3/envs/clip/lib/python3.8/site-packages (from aiohttp<4,>=3.8.1->clip-retrieval) (1.9.4)\n",
            "Requirement already satisfied: async-timeout<5.0,>=4.0 in /home/faheem/miniconda3/envs/clip/lib/python3.8/site-packages (from aiohttp<4,>=3.8.1->clip-retrieval) (4.0.3)\n",
            "Requirement already satisfied: scikit-image>=0.21.0 in /home/faheem/miniconda3/envs/clip/lib/python3.8/site-packages (from albumentations<2,>=1.1.0->img2dataset) (0.21.0)\n",
            "Requirement already satisfied: PyYAML in /home/faheem/miniconda3/envs/clip/lib/python3.8/site-packages (from albumentations<2,>=1.1.0->img2dataset) (6.0.1)\n",
            "Requirement already satisfied: typing-extensions>=4.9.0 in /home/faheem/miniconda3/envs/clip/lib/python3.8/site-packages (from albumentations<2,>=1.1.0->img2dataset) (4.12.2)\n",
            "Requirement already satisfied: scikit-learn>=1.3.2 in /home/faheem/miniconda3/envs/clip/lib/python3.8/site-packages (from albumentations<2,>=1.1.0->img2dataset) (1.3.2)\n",
            "Requirement already satisfied: pydantic>=2.7.0 in /home/faheem/miniconda3/envs/clip/lib/python3.8/site-packages (from albumentations<2,>=1.1.0->img2dataset) (2.7.4)\n",
            "Requirement already satisfied: albucore>=0.0.11 in /home/faheem/miniconda3/envs/clip/lib/python3.8/site-packages (from albumentations<2,>=1.1.0->img2dataset) (0.0.12)\n",
            "Requirement already satisfied: embedding-reader<2,>=1.5.1 in /home/faheem/miniconda3/envs/clip/lib/python3.8/site-packages (from autofaiss<3,>=2.9.6->clip-retrieval) (1.7.0)\n",
            "Requirement already satisfied: ftfy in /home/faheem/miniconda3/envs/clip/lib/python3.8/site-packages (from clip-anytorch<3,>=2.5.0->clip-retrieval) (6.2.0)\n",
            "Requirement already satisfied: regex in /home/faheem/miniconda3/envs/clip/lib/python3.8/site-packages (from clip-anytorch<3,>=2.5.0->clip-retrieval) (2024.5.15)\n",
            "Requirement already satisfied: packaging in /home/faheem/miniconda3/envs/clip/lib/python3.8/site-packages (from faiss-cpu<2,>=1.7.2->clip-retrieval) (24.1)\n",
            "Requirement already satisfied: six in /home/faheem/miniconda3/envs/clip/lib/python3.8/site-packages (from fire<0.6.0,>=0.4.0->clip-retrieval) (1.16.0)\n",
            "Requirement already satisfied: termcolor in /home/faheem/miniconda3/envs/clip/lib/python3.8/site-packages (from fire<0.6.0,>=0.4.0->clip-retrieval) (2.4.0)\n",
            "Requirement already satisfied: Werkzeug>=3.0.0 in /home/faheem/miniconda3/envs/clip/lib/python3.8/site-packages (from flask<4,>=3.0.0->clip-retrieval) (3.0.3)\n",
            "Requirement already satisfied: Jinja2>=3.1.2 in /home/faheem/miniconda3/envs/clip/lib/python3.8/site-packages (from flask<4,>=3.0.0->clip-retrieval) (3.1.4)\n",
            "Requirement already satisfied: itsdangerous>=2.1.2 in /home/faheem/miniconda3/envs/clip/lib/python3.8/site-packages (from flask<4,>=3.0.0->clip-retrieval) (2.2.0)\n",
            "Requirement already satisfied: click>=8.1.3 in /home/faheem/miniconda3/envs/clip/lib/python3.8/site-packages (from flask<4,>=3.0.0->clip-retrieval) (8.1.7)\n",
            "Requirement already satisfied: blinker>=1.6.2 in /home/faheem/miniconda3/envs/clip/lib/python3.8/site-packages (from flask<4,>=3.0.0->clip-retrieval) (1.8.2)\n",
            "Requirement already satisfied: importlib-metadata>=3.6.0 in /home/faheem/miniconda3/envs/clip/lib/python3.8/site-packages (from flask<4,>=3.0.0->clip-retrieval) (8.0.0)\n",
            "Requirement already satisfied: aniso8601>=0.82 in /home/faheem/miniconda3/envs/clip/lib/python3.8/site-packages (from flask-restful<1,>=0.3.9->clip-retrieval) (9.0.1)\n",
            "Requirement already satisfied: pytz in /home/faheem/miniconda3/envs/clip/lib/python3.8/site-packages (from flask-restful<1,>=0.3.9->clip-retrieval) (2024.1)\n",
            "Requirement already satisfied: huggingface-hub in /home/faheem/miniconda3/envs/clip/lib/python3.8/site-packages (from open-clip-torch<3.0.0,>=2.0.0->clip-retrieval) (0.23.4)\n",
            "Requirement already satisfied: sentencepiece in /home/faheem/miniconda3/envs/clip/lib/python3.8/site-packages (from open-clip-torch<3.0.0,>=2.0.0->clip-retrieval) (0.2.0)\n",
            "Requirement already satisfied: protobuf<4 in /home/faheem/miniconda3/envs/clip/lib/python3.8/site-packages (from open-clip-torch<3.0.0,>=2.0.0->clip-retrieval) (3.20.3)\n",
            "Requirement already satisfied: timm in /home/faheem/miniconda3/envs/clip/lib/python3.8/site-packages (from open-clip-torch<3.0.0,>=2.0.0->clip-retrieval) (1.0.7)\n",
            "Requirement already satisfied: python-dateutil>=2.8.2 in /home/faheem/miniconda3/envs/clip/lib/python3.8/site-packages (from pandas<3,>=1.1.5->clip-retrieval) (2.9.0)\n",
            "Requirement already satisfied: tzdata>=2022.1 in /home/faheem/miniconda3/envs/clip/lib/python3.8/site-packages (from pandas<3,>=1.1.5->clip-retrieval) (2024.1)\n",
            "Requirement already satisfied: charset-normalizer<4,>=2 in /home/faheem/miniconda3/envs/clip/lib/python3.8/site-packages (from requests<3,>=2.27.1->clip-retrieval) (3.3.2)\n",
            "Requirement already satisfied: idna<4,>=2.5 in /home/faheem/miniconda3/envs/clip/lib/python3.8/site-packages (from requests<3,>=2.27.1->clip-retrieval) (3.7)\n",
            "Requirement already satisfied: certifi>=2017.4.17 in /home/faheem/miniconda3/envs/clip/lib/python3.8/site-packages (from requests<3,>=2.27.1->clip-retrieval) (2024.6.2)\n",
            "Requirement already satisfied: Pillow in /home/faheem/miniconda3/envs/clip/lib/python3.8/site-packages (from sentence-transformers<3,>=2.2.0->clip-retrieval) (10.3.0)\n",
            "Requirement already satisfied: filelock in /home/faheem/miniconda3/envs/clip/lib/python3.8/site-packages (from torch<3,>=1.7.1->clip-retrieval) (3.15.4)\n",
            "Requirement already satisfied: sympy in /home/faheem/miniconda3/envs/clip/lib/python3.8/site-packages (from torch<3,>=1.7.1->clip-retrieval) (1.12.1)\n",
            "Requirement already satisfied: networkx in /home/faheem/miniconda3/envs/clip/lib/python3.8/site-packages (from torch<3,>=1.7.1->clip-retrieval) (3.1)\n",
            "Requirement already satisfied: nvidia-cuda-nvrtc-cu12==12.1.105 in /home/faheem/miniconda3/envs/clip/lib/python3.8/site-packages (from torch<3,>=1.7.1->clip-retrieval) (12.1.105)\n",
            "Requirement already satisfied: nvidia-cuda-runtime-cu12==12.1.105 in /home/faheem/miniconda3/envs/clip/lib/python3.8/site-packages (from torch<3,>=1.7.1->clip-retrieval) (12.1.105)\n",
            "Requirement already satisfied: nvidia-cuda-cupti-cu12==12.1.105 in /home/faheem/miniconda3/envs/clip/lib/python3.8/site-packages (from torch<3,>=1.7.1->clip-retrieval) (12.1.105)\n",
            "Requirement already satisfied: nvidia-cudnn-cu12==8.9.2.26 in /home/faheem/miniconda3/envs/clip/lib/python3.8/site-packages (from torch<3,>=1.7.1->clip-retrieval) (8.9.2.26)\n",
            "Requirement already satisfied: nvidia-cublas-cu12==12.1.3.1 in /home/faheem/miniconda3/envs/clip/lib/python3.8/site-packages (from torch<3,>=1.7.1->clip-retrieval) (12.1.3.1)\n",
            "Requirement already satisfied: nvidia-cufft-cu12==11.0.2.54 in /home/faheem/miniconda3/envs/clip/lib/python3.8/site-packages (from torch<3,>=1.7.1->clip-retrieval) (11.0.2.54)\n",
            "Requirement already satisfied: nvidia-curand-cu12==10.3.2.106 in /home/faheem/miniconda3/envs/clip/lib/python3.8/site-packages (from torch<3,>=1.7.1->clip-retrieval) (10.3.2.106)\n",
            "Requirement already satisfied: nvidia-cusolver-cu12==11.4.5.107 in /home/faheem/miniconda3/envs/clip/lib/python3.8/site-packages (from torch<3,>=1.7.1->clip-retrieval) (11.4.5.107)\n",
            "Requirement already satisfied: nvidia-cusparse-cu12==12.1.0.106 in /home/faheem/miniconda3/envs/clip/lib/python3.8/site-packages (from torch<3,>=1.7.1->clip-retrieval) (12.1.0.106)\n",
            "Requirement already satisfied: nvidia-nccl-cu12==2.20.5 in /home/faheem/miniconda3/envs/clip/lib/python3.8/site-packages (from torch<3,>=1.7.1->clip-retrieval) (2.20.5)\n",
            "Requirement already satisfied: nvidia-nvtx-cu12==12.1.105 in /home/faheem/miniconda3/envs/clip/lib/python3.8/site-packages (from torch<3,>=1.7.1->clip-retrieval) (12.1.105)\n",
            "Requirement already satisfied: triton==2.3.1 in /home/faheem/miniconda3/envs/clip/lib/python3.8/site-packages (from torch<3,>=1.7.1->clip-retrieval) (2.3.1)\n",
            "Requirement already satisfied: nvidia-nvjitlink-cu12 in /home/faheem/miniconda3/envs/clip/lib/python3.8/site-packages (from nvidia-cusolver-cu12==11.4.5.107->torch<3,>=1.7.1->clip-retrieval) (12.5.40)\n",
            "Requirement already satisfied: tokenizers<0.19,>=0.14 in /home/faheem/miniconda3/envs/clip/lib/python3.8/site-packages (from transformers->clip-retrieval) (0.15.2)\n",
            "Requirement already satisfied: safetensors>=0.4.1 in /home/faheem/miniconda3/envs/clip/lib/python3.8/site-packages (from transformers->clip-retrieval) (0.4.3)\n",
            "Requirement already satisfied: GitPython!=3.1.29,>=1.0.0 in /home/faheem/miniconda3/envs/clip/lib/python3.8/site-packages (from wandb<0.17,>=0.12.0->clip-retrieval) (3.1.43)\n",
            "Requirement already satisfied: psutil>=5.0.0 in /home/faheem/miniconda3/envs/clip/lib/python3.8/site-packages (from wandb<0.17,>=0.12.0->clip-retrieval) (6.0.0)\n",
            "Requirement already satisfied: sentry-sdk>=1.0.0 in /home/faheem/miniconda3/envs/clip/lib/python3.8/site-packages (from wandb<0.17,>=0.12.0->clip-retrieval) (2.7.1)\n",
            "Requirement already satisfied: docker-pycreds>=0.4.0 in /home/faheem/miniconda3/envs/clip/lib/python3.8/site-packages (from wandb<0.17,>=0.12.0->clip-retrieval) (0.4.0)\n",
            "Requirement already satisfied: setproctitle in /home/faheem/miniconda3/envs/clip/lib/python3.8/site-packages (from wandb<0.17,>=0.12.0->clip-retrieval) (1.3.3)\n",
            "Requirement already satisfied: setuptools in /home/faheem/miniconda3/envs/clip/lib/python3.8/site-packages (from wandb<0.17,>=0.12.0->clip-retrieval) (69.5.1)\n",
            "Requirement already satisfied: appdirs>=1.4.3 in /home/faheem/miniconda3/envs/clip/lib/python3.8/site-packages (from wandb<0.17,>=0.12.0->clip-retrieval) (1.4.4)\n",
            "Requirement already satisfied: braceexpand in /home/faheem/miniconda3/envs/clip/lib/python3.8/site-packages (from webdataset<0.3,>=0.2->clip-retrieval) (0.1.7)\n",
            "Requirement already satisfied: tomli>=2.0.1 in /home/faheem/miniconda3/envs/clip/lib/python3.8/site-packages (from albucore>=0.0.11->albumentations<2,>=1.1.0->img2dataset) (2.0.1)\n",
            "Requirement already satisfied: gitdb<5,>=4.0.1 in /home/faheem/miniconda3/envs/clip/lib/python3.8/site-packages (from GitPython!=3.1.29,>=1.0.0->wandb<0.17,>=0.12.0->clip-retrieval) (4.0.11)\n",
            "Requirement already satisfied: zipp>=0.5 in /home/faheem/miniconda3/envs/clip/lib/python3.8/site-packages (from importlib-metadata>=3.6.0->flask<4,>=3.0.0->clip-retrieval) (3.19.2)\n",
            "Requirement already satisfied: MarkupSafe>=2.0 in /home/faheem/miniconda3/envs/clip/lib/python3.8/site-packages (from Jinja2>=3.1.2->flask<4,>=3.0.0->clip-retrieval) (2.1.5)\n",
            "Requirement already satisfied: annotated-types>=0.4.0 in /home/faheem/miniconda3/envs/clip/lib/python3.8/site-packages (from pydantic>=2.7.0->albumentations<2,>=1.1.0->img2dataset) (0.7.0)\n",
            "Requirement already satisfied: pydantic-core==2.18.4 in /home/faheem/miniconda3/envs/clip/lib/python3.8/site-packages (from pydantic>=2.7.0->albumentations<2,>=1.1.0->img2dataset) (2.18.4)\n",
            "Requirement already satisfied: imageio>=2.27 in /home/faheem/miniconda3/envs/clip/lib/python3.8/site-packages (from scikit-image>=0.21.0->albumentations<2,>=1.1.0->img2dataset) (2.34.2)\n",
            "Requirement already satisfied: tifffile>=2022.8.12 in /home/faheem/miniconda3/envs/clip/lib/python3.8/site-packages (from scikit-image>=0.21.0->albumentations<2,>=1.1.0->img2dataset) (2023.7.10)\n",
            "Requirement already satisfied: PyWavelets>=1.1.1 in /home/faheem/miniconda3/envs/clip/lib/python3.8/site-packages (from scikit-image>=0.21.0->albumentations<2,>=1.1.0->img2dataset) (1.4.1)\n",
            "Requirement already satisfied: lazy_loader>=0.2 in /home/faheem/miniconda3/envs/clip/lib/python3.8/site-packages (from scikit-image>=0.21.0->albumentations<2,>=1.1.0->img2dataset) (0.4)\n",
            "Requirement already satisfied: joblib>=1.1.1 in /home/faheem/miniconda3/envs/clip/lib/python3.8/site-packages (from scikit-learn>=1.3.2->albumentations<2,>=1.1.0->img2dataset) (1.4.2)\n",
            "Requirement already satisfied: threadpoolctl>=2.0.0 in /home/faheem/miniconda3/envs/clip/lib/python3.8/site-packages (from scikit-learn>=1.3.2->albumentations<2,>=1.1.0->img2dataset) (3.5.0)\n",
            "Requirement already satisfied: wcwidth<0.3.0,>=0.2.12 in /home/faheem/miniconda3/envs/clip/lib/python3.8/site-packages (from ftfy->clip-anytorch<3,>=2.5.0->clip-retrieval) (0.2.13)\n",
            "Requirement already satisfied: mpmath<1.4.0,>=1.1.0 in /home/faheem/miniconda3/envs/clip/lib/python3.8/site-packages (from sympy->torch<3,>=1.7.1->clip-retrieval) (1.3.0)\n",
            "Requirement already satisfied: smmap<6,>=3.0.1 in /home/faheem/miniconda3/envs/clip/lib/python3.8/site-packages (from gitdb<5,>=4.0.1->GitPython!=3.1.29,>=1.0.0->wandb<0.17,>=0.12.0->clip-retrieval) (5.0.1)\n",
            "Downloading clip_retrieval-2.44.0-py3-none-any.whl (343 kB)\n",
            "\u001b[2K   \u001b[90m━━━━━━━━━━━━━━━━━━━━━━━━━━━━━━━━━━━━━━━━\u001b[0m \u001b[32m343.5/343.5 kB\u001b[0m \u001b[31m7.6 MB/s\u001b[0m eta \u001b[36m0:00:00\u001b[0m:00:01\u001b[0m\n",
            "\u001b[?25hDownloading pyarrow-14.0.2-cp38-cp38-manylinux_2_28_x86_64.whl (38.1 MB)\n",
            "\u001b[2K   \u001b[90m━━━━━━━━━━━━━━━━━━━━━━━━━━━━━━━━━━━━━━━━\u001b[0m \u001b[32m38.1/38.1 MB\u001b[0m \u001b[31m41.9 MB/s\u001b[0m eta \u001b[36m0:00:00\u001b[0m:00:01\u001b[0m00:01\u001b[0m\n",
            "\u001b[?25hUsing cached urllib3-1.26.19-py2.py3-none-any.whl (143 kB)\n",
            "Installing collected packages: urllib3, pyarrow, clip-retrieval\n",
            "  Attempting uninstall: urllib3\n",
            "    Found existing installation: urllib3 2.2.2\n",
            "    Uninstalling urllib3-2.2.2:\n",
            "      Successfully uninstalled urllib3-2.2.2\n",
            "  Attempting uninstall: pyarrow\n",
            "    Found existing installation: pyarrow 15.0.2\n",
            "    Uninstalling pyarrow-15.0.2:\n",
            "      Successfully uninstalled pyarrow-15.0.2\n",
            "\u001b[31mERROR: pip's dependency resolver does not currently take into account all the packages that are installed. This behaviour is the source of the following dependency conflicts.\n",
            "types-requests 2.32.0.20240622 requires urllib3>=2, but you have urllib3 1.26.19 which is incompatible.\u001b[0m\u001b[31m\n",
            "\u001b[0mSuccessfully installed clip-retrieval-2.44.0 pyarrow-14.0.2 urllib3-1.26.19\n"
          ]
        }
      ],
      "source": [
        "%pip install clip-retrieval img2dataset"
      ]
    },
    {
      "cell_type": "markdown",
      "metadata": {
        "id": "q5-9yk7y_qlW"
      },
      "source": [
        "## Get some image urls"
      ]
    },
    {
      "cell_type": "code",
      "execution_count": 5,
      "metadata": {
        "id": "SA89YmKtjvnX"
      },
      "outputs": [],
      "source": [
        "!echo \"https://www.bluecross.org.uk/sites/default/files/assets/images/124044lpr.jpg\" >> myimglist.txt\n",
        "!echo \"https://static.boredpanda.com/blog/wp-content/uploads/2018/04/5acb63d83493f__700-png.jpg\" >> myimglist.txt\n",
        "!echo \"https://www.argospetinsurance.co.uk/assets/uploads/2017/12/cat-pet-animal-domestic-104827.jpeg\" >> myimglist.txt\n"
      ]
    },
    {
      "cell_type": "markdown",
      "metadata": {
        "id": "N8Tbn2Kl_t1N"
      },
      "source": [
        "## Download the image urls"
      ]
    },
    {
      "cell_type": "code",
      "execution_count": 22,
      "metadata": {
        "colab": {
          "base_uri": "https://localhost:8080/"
        },
        "id": "BVZW6noqjvnY",
        "outputId": "484db3d4-249a-4d61-f2d8-5a0f1817a1b4"
      },
      "outputs": [
        {
          "name": "stdout",
          "output_type": "stream",
          "text": [
            "Starting the downloading of this file\n",
            "Sharding file number 1 of 1 called /home/faheem/Workspace/clip-retrieval/notebook/myimglist.txt\n",
            "0it [00:00, ?it/s]File sharded in 1 shards\n",
            "Downloading starting now, check your bandwidth speed (with bwm-ng)your cpu (with htop), and your disk usage (with iotop)!\n",
            "1it [00:30, 30.80s/it]\n",
            "worker  - success: 0.584 - failed to download: 0.357 - failed to resize: 0.059 - images per sec: 23 - count: 658\n",
            "total   - success: 0.584 - failed to download: 0.357 - failed to resize: 0.059 - images per sec: 23 - count: 658\n"
          ]
        }
      ],
      "source": [
        "!img2dataset --url_list=myimglist.txt --output_folder=image_folder --thread_count=64 --image_size=256"
      ]
    },
    {
      "cell_type": "markdown",
      "metadata": {},
      "source": []
    },
    {
      "cell_type": "markdown",
      "metadata": {
        "id": "FMW4ncir_1Jt"
      },
      "source": [
        "## Produce embeddings"
      ]
    },
    {
      "cell_type": "code",
      "execution_count": 1,
      "metadata": {
        "colab": {
          "base_uri": "https://localhost:8080/"
        },
        "id": "MvNr8NJRjvnZ",
        "outputId": "1484e573-c84d-4593-c7f6-a461b1d516ca"
      },
      "outputs": [
        {
          "name": "stdout",
          "output_type": "stream",
          "text": [
            "/home/faheem/miniconda3/envs/clip/lib/python3.8/site-packages/torch/cuda/__init__.py:619: UserWarning: Can't initialize NVML\n",
            "  warnings.warn(\"Can't initialize NVML\")\n",
            "/home/faheem/miniconda3/envs/clip/lib/python3.8/site-packages/torch/cuda/__init__.py:749: UserWarning: CUDA initialization: Unexpected error from cudaGetDeviceCount(). Did you run some cuda functions before calling NumCudaDevices() that might have already set an error? Error 804: forward compatibility was attempted on non supported HW (Triggered internally at ../c10/cuda/CUDAFunctions.cpp:108.)\n",
            "  return torch._C._cuda_getDeviceCount() if nvml_count < 0 else nvml_count\n",
            "The number of samples has been estimated to be 5000\n",
            "Starting the worker\n",
            "dataset is 49\n",
            "Starting work on task 0\n",
            "/home/faheem/miniconda3/envs/clip/lib/python3.8/site-packages/torch/cuda/__init__.py:619: UserWarning: Can't initialize NVML\n",
            "  warnings.warn(\"Can't initialize NVML\")\n",
            "/home/faheem/miniconda3/envs/clip/lib/python3.8/site-packages/torch/cuda/__init__.py:749: UserWarning: CUDA initialization: Unexpected error from cudaGetDeviceCount(). Did you run some cuda functions before calling NumCudaDevices() that might have already set an error? Error 804: forward compatibility was attempted on non supported HW (Triggered internally at ../c10/cuda/CUDAFunctions.cpp:108.)\n",
            "  return torch._C._cuda_getDeviceCount() if nvml_count < 0 else nvml_count\n",
            "warming up with batch size 256 on cpu\n",
            " sample_per_sec 0 ; sample_count 384 done warming up in 20.6290500164032s\n",
            " sample_per_sec 0 ; sample_count 384 /home/faheem/miniconda3/envs/clip/lib/python3.8/site-packages/torch/cuda/__init__.py:619: UserWarning: Can't initialize NVML\n",
            "  warnings.warn(\"Can't initialize NVML\")\n",
            "/home/faheem/miniconda3/envs/clip/lib/python3.8/site-packages/torch/cuda/__init__.py:749: UserWarning: CUDA initialization: Unexpected error from cudaGetDeviceCount(). Did you run some cuda functions before calling NumCudaDevices() that might have already set an error? Error 804: forward compatibility was attempted on non supported HW (Triggered internally at ../c10/cuda/CUDAFunctions.cpp:108.)\n",
            "  return torch._C._cuda_getDeviceCount() if nvml_count < 0 else nvml_count\n",
            " sample_per_sec 42 ; sample_count 5248 "
          ]
        }
      ],
      "source": [
        "!clip-retrieval inference  --input_dataset /home/faheem/Workspace/open_clip/coco2017/val2017 --output_folder embedding_folder"
      ]
    },
    {
      "cell_type": "code",
      "execution_count": 24,
      "metadata": {
        "colab": {
          "base_uri": "https://localhost:8080/"
        },
        "id": "aBcl0APqjvnZ",
        "outputId": "14bda9f6-e687-43e7-d7ee-754048cc0c2e"
      },
      "outputs": [
        {
          "name": "stdout",
          "output_type": "stream",
          "text": [
            "embedding_folder:\n",
            "img_emb  metadata  stats\n",
            "\n",
            "embedding_folder/img_emb:\n",
            "img_emb_0.npy\n",
            "\n",
            "embedding_folder/metadata:\n",
            "metadata_0.parquet\n",
            "\n",
            "embedding_folder/stats:\n",
            "0.json\n"
          ]
        }
      ],
      "source": [
        "!ls -R embedding_folder"
      ]
    },
    {
      "cell_type": "markdown",
      "metadata": {
        "id": "Am62ARgs_3_e"
      },
      "source": [
        "## Produce knn indices"
      ]
    },
    {
      "cell_type": "code",
      "execution_count": 25,
      "metadata": {
        "colab": {
          "base_uri": "https://localhost:8080/"
        },
        "id": "xwzha2vY6OnP",
        "outputId": "63e1d45a-1c13-4f84-8a45-1c7196fb7eb6"
      },
      "outputs": [
        {
          "name": "stdout",
          "output_type": "stream",
          "text": [
            "/home/faheem/miniconda3/envs/clip/lib/python3.8/site-packages/torch/cuda/__init__.py:619: UserWarning: Can't initialize NVML\n",
            "  warnings.warn(\"Can't initialize NVML\")\n",
            "/home/faheem/miniconda3/envs/clip/lib/python3.8/site-packages/torch/cuda/__init__.py:749: UserWarning: CUDA initialization: Unexpected error from cudaGetDeviceCount(). Did you run some cuda functions before calling NumCudaDevices() that might have already set an error? Error 804: forward compatibility was attempted on non supported HW (Triggered internally at ../c10/cuda/CUDAFunctions.cpp:108.)\n",
            "  return torch._C._cuda_getDeviceCount() if nvml_count < 0 else nvml_count\n",
            "2024-06-30 18:08:19,167 [INFO]: Using 12 omp threads (processes), consider increasing --nb_cores if you have more\n",
            "2024-06-30 18:08:19,167 [INFO]: Launching the whole pipeline 06/30/2024, 18:08:19\n",
            "2024-06-30 18:08:19,167 [INFO]: Reading total number of vectors and dimension 06/30/2024, 18:08:19\n",
            "100%|███████████████████████████████████████████| 1/1 [00:00<00:00, 1560.38it/s]\n",
            "2024-06-30 18:08:19,184 [INFO]: There are 384 embeddings of dim 512\n",
            "2024-06-30 18:08:19,184 [INFO]: >>> Finished \"Reading total number of vectors and dimension\" in 0.0171 secs\n",
            "2024-06-30 18:08:19,184 [INFO]: \tCompute estimated construction time of the index 06/30/2024, 18:08:19\n",
            "2024-06-30 18:08:19,184 [INFO]: \t\t-> Train: 16.7 minutes\n",
            "2024-06-30 18:08:19,185 [INFO]: \t\t-> Add: 0.0 seconds\n",
            "2024-06-30 18:08:19,185 [INFO]: \t\tTotal: 16.7 minutes\n",
            "2024-06-30 18:08:19,185 [INFO]: \t>>> Finished \"Compute estimated construction time of the index\" in 0.0002 secs\n",
            "2024-06-30 18:08:19,185 [INFO]: \tChecking that your have enough memory available to create the index 06/30/2024, 18:08:19\n",
            "2024-06-30 18:08:19,185 [INFO]: 844.8KB of memory will be needed to build the index (more might be used if you have more)\n",
            "2024-06-30 18:08:19,185 [INFO]: \t>>> Finished \"Checking that your have enough memory available to create the index\" in 0.0005 secs\n",
            "2024-06-30 18:08:19,185 [INFO]: \tSelecting most promising index types given data characteristics 06/30/2024, 18:08:19\n",
            "2024-06-30 18:08:19,185 [INFO]: \t>>> Finished \"Selecting most promising index types given data characteristics\" in 0.0000 secs\n",
            "2024-06-30 18:08:19,186 [INFO]: \tCreating the index 06/30/2024, 18:08:19\n",
            "2024-06-30 18:08:19,186 [INFO]: \t\t-> Instanciate the index Flat 06/30/2024, 18:08:19\n",
            "2024-06-30 18:08:19,186 [INFO]: \t\t>>> Finished \"-> Instanciate the index Flat\" in 0.0002 secs\n",
            "2024-06-30 18:08:19,186 [INFO]: \t\t-> Adding the vectors to the index 06/30/2024, 18:08:19\n",
            "2024-06-30 18:08:19,186 [INFO]: The memory available for adding the vectors is 16.0GB(total available - used by the index)\n",
            "2024-06-30 18:08:19,186 [INFO]: Using a batch size of 488281 (memory overhead 953.7MB)\n",
            "100%|████████████████████████████████████████████| 1/1 [00:00<00:00, 137.50it/s]\n",
            "2024-06-30 18:08:19,195 [INFO]: \tComputing best hyperparameters for index index_folder/image.index 06/30/2024, 18:08:19\n",
            "2024-06-30 18:08:19,195 [INFO]: \t>>> Finished \"Computing best hyperparameters for index index_folder/image.index\" in 0.0000 secs\n",
            "2024-06-30 18:08:19,195 [INFO]: The best hyperparameters are: \n",
            "2024-06-30 18:08:19,195 [INFO]: \tCompute fast metrics 06/30/2024, 18:08:19\n",
            "  0%|                                                     | 0/1 [00:00<?, ?it/s]\n",
            "2024-06-30 18:08:19,337 [INFO]: \t>>> Finished \"Compute fast metrics\" in 0.1417 secs\n",
            "2024-06-30 18:08:19,337 [INFO]: \tSaving the index on local disk 06/30/2024, 18:08:19\n",
            "2024-06-30 18:08:19,338 [INFO]: \t>>> Finished \"Saving the index on local disk\" in 0.0012 secs\n",
            "2024-06-30 18:08:19,338 [INFO]: \t\t>>> Finished \"-> Adding the vectors to the index\" in 0.1524 secs\n",
            "2024-06-30 18:08:19,338 [INFO]: {\n",
            "2024-06-30 18:08:19,338 [INFO]: \tindex_key: Flat\n",
            "2024-06-30 18:08:19,338 [INFO]: \tindex_param: \n",
            "2024-06-30 18:08:19,339 [INFO]: \tindex_path: index_folder/image.index\n",
            "2024-06-30 18:08:19,339 [INFO]: \tsize in bytes: 786477\n",
            "2024-06-30 18:08:19,339 [INFO]: \tavg_search_speed_ms: 0.05417209558800096\n",
            "2024-06-30 18:08:19,339 [INFO]: \t99p_search_speed_ms: 0.074347912450321\n",
            "2024-06-30 18:08:19,339 [INFO]: \treconstruction error %: 0.0\n",
            "2024-06-30 18:08:19,339 [INFO]: \tnb vectors: 384\n",
            "2024-06-30 18:08:19,339 [INFO]: \tvectors dimension: 512\n",
            "2024-06-30 18:08:19,339 [INFO]: \tcompression ratio: 0.9999427828150093\n",
            "2024-06-30 18:08:19,339 [INFO]: }\n",
            "2024-06-30 18:08:19,339 [INFO]: \t>>> Finished \"Creating the index\" in 0.1532 secs\n",
            "2024-06-30 18:08:19,339 [INFO]: >>> Finished \"Launching the whole pipeline\" in 0.1716 secs\n"
          ]
        }
      ],
      "source": [
        "!clip-retrieval index --embeddings_folder=embedding_folder --index_folder=index_folder"
      ]
    },
    {
      "cell_type": "markdown",
      "metadata": {
        "id": "gL_X73OY_6TW"
      },
      "source": [
        "## Use the index to get a subset of files"
      ]
    },
    {
      "cell_type": "code",
      "execution_count": 26,
      "metadata": {
        "colab": {
          "base_uri": "https://localhost:8080/"
        },
        "id": "COVo6tHQjvnZ",
        "outputId": "57c02131-5f3a-417b-fd53-36ef5fef1061"
      },
      "outputs": [
        {
          "name": "stdout",
          "output_type": "stream",
          "text": [
            "/home/faheem/miniconda3/envs/clip/lib/python3.8/site-packages/torch/cuda/__init__.py:619: UserWarning: Can't initialize NVML\n",
            "  warnings.warn(\"Can't initialize NVML\")\n",
            "/home/faheem/miniconda3/envs/clip/lib/python3.8/site-packages/torch/cuda/__init__.py:749: UserWarning: CUDA initialization: Unexpected error from cudaGetDeviceCount(). Did you run some cuda functions before calling NumCudaDevices() that might have already set an error? Error 804: forward compatibility was attempted on non supported HW (Triggered internally at ../c10/cuda/CUDAFunctions.cpp:108.)\n",
            "  return torch._C._cuda_getDeviceCount() if nvml_count < 0 else nvml_count\n",
            "Found 100 items with query 'cat'\n",
            "The minimum distance is 0.27 and the maximum is 0.29\n",
            "You may want to use these numbers to increase your --num_results parameter. Or use the --threshold parameter.\n",
            "Copying the images in cat/\n"
          ]
        }
      ],
      "source": [
        "!clip-retrieval filter --query \"cat\" --output_folder \"cat/\" --indice_folder \"index_folder\""
      ]
    },
    {
      "cell_type": "code",
      "execution_count": 27,
      "metadata": {
        "colab": {
          "base_uri": "https://localhost:8080/"
        },
        "id": "wmVuLCKmubsI",
        "outputId": "64547d42-80cc-45a0-d8c6-320f007a77c8"
      },
      "outputs": [
        {
          "name": "stdout",
          "output_type": "stream",
          "text": [
            "cat\t\t\t\t      knn.index\n",
            "clip-client-query-api.ipynb\t      metadata_0.1.parquet\n",
            "clip-retrieval-getting-started.ipynb  myimglist.parquet\n",
            "embedding_folder\t\t      myimglist.txt\n",
            "embeddings\t\t\t      newcat.jpg\n",
            "image_folder\t\t\t      retrieval_example.ipynb\n",
            "index_folder\t\t\t      simple_filter.ipynb\n",
            "infos.json\n"
          ]
        }
      ],
      "source": [
        "!ls"
      ]
    },
    {
      "cell_type": "code",
      "execution_count": 28,
      "metadata": {
        "colab": {
          "base_uri": "https://localhost:8080/"
        },
        "id": "KOdR2ybtjvna",
        "outputId": "219d38d5-f4b1-46b6-b178-c5da880431d0"
      },
      "outputs": [
        {
          "name": "stdout",
          "output_type": "stream",
          "text": [
            "cat:\n",
            "000000001.jpg  000000126.jpg  000000292.jpg  000000417.jpg  000000576.jpg\n",
            "000000005.jpg  000000127.jpg  000000293.jpg  000000421.jpg  000000577.jpg\n",
            "000000009.jpg  000000154.jpg  000000294.jpg  000000434.jpg  000000589.jpg\n",
            "000000010.jpg  000000155.jpg  000000295.jpg  000000449.jpg  000000592.jpg\n",
            "000000013.jpg  000000158.jpg  000000300.jpg  000000458.jpg  000000593.jpg\n",
            "000000018.jpg  000000168.jpg  000000328.jpg  000000462.jpg  000000597.jpg\n",
            "000000019.jpg  000000171.jpg  000000333.jpg  000000464.jpg  000000603.jpg\n",
            "000000028.jpg  000000175.jpg  000000335.jpg  000000469.jpg  000000607.jpg\n",
            "000000047.jpg  000000188.jpg  000000342.jpg  000000479.jpg  000000608.jpg\n",
            "000000051.jpg  000000206.jpg  000000344.jpg  000000482.jpg  000000611.jpg\n",
            "000000055.jpg  000000207.jpg  000000353.jpg  000000483.jpg  000000612.jpg\n",
            "000000059.jpg  000000211.jpg  000000357.jpg  000000486.jpg  000000619.jpg\n",
            "000000063.jpg  000000216.jpg  000000360.jpg  000000495.jpg  000000620.jpg\n",
            "000000067.jpg  000000243.jpg  000000361.jpg  000000499.jpg  000000625.jpg\n",
            "000000069.jpg  000000246.jpg  000000368.jpg  000000504.jpg  000000631.jpg\n",
            "000000075.jpg  000000263.jpg  000000369.jpg  000000517.jpg  000000634.jpg\n",
            "000000077.jpg  000000265.jpg  000000382.jpg  000000527.jpg  000000640.jpg\n",
            "000000083.jpg  000000266.jpg  000000384.jpg  000000546.jpg  000000643.jpg\n",
            "000000092.jpg  000000267.jpg  000000385.jpg  000000562.jpg  000000648.jpg\n",
            "000000124.jpg  000000269.jpg  000000414.jpg  000000565.jpg  000000652.jpg\n"
          ]
        }
      ],
      "source": [
        "%ls -R cat"
      ]
    },
    {
      "cell_type": "code",
      "execution_count": 29,
      "metadata": {
        "colab": {
          "base_uri": "https://localhost:8080/",
          "height": 273
        },
        "id": "GHtA2Jlajvna",
        "outputId": "3448f92e-d3de-48ae-8ba6-807d414d45fb"
      },
      "outputs": [
        {
          "data": {
            "image/jpeg": "[encoded data removed]",
            "text/plain": [
              "<IPython.core.display.Image object>"
            ]
          },
          "execution_count": 29,
          "metadata": {},
          "output_type": "execute_result"
        }
      ],
      "source": [
        "from IPython.display import Image\n",
        "Image(filename='cat/000000001.jpg') "
      ]
    },
    {
      "cell_type": "markdown",
      "metadata": {
        "id": "tcvl9hog_-Lg"
      },
      "source": [
        "## Run the knn service backend"
      ]
    },
    {
      "cell_type": "code",
      "execution_count": 30,
      "metadata": {
        "colab": {
          "base_uri": "https://localhost:8080/"
        },
        "id": "8mKtpVPi6jiZ",
        "outputId": "a7382021-c907-44ba-ecf1-4fd864c63089"
      },
      "outputs": [
        {
          "name": "stderr",
          "output_type": "stream",
          "text": [
            "bash: line 2: npm: command not found\n"
          ]
        },
        {
          "ename": "CalledProcessError",
          "evalue": "Command 'b'echo \\'{\"example_index\": \"index_folder\"}\\' > indices_paths.json\\nnpm install -g localtunnel\\n'' returned non-zero exit status 127.",
          "output_type": "error",
          "traceback": [
            "\u001b[0;31m---------------------------------------------------------------------------\u001b[0m",
            "\u001b[0;31mCalledProcessError\u001b[0m                        Traceback (most recent call last)",
            "Cell \u001b[0;32mIn[30], line 1\u001b[0m\n\u001b[0;32m----> 1\u001b[0m \u001b[43mget_ipython\u001b[49m\u001b[43m(\u001b[49m\u001b[43m)\u001b[49m\u001b[38;5;241;43m.\u001b[39;49m\u001b[43mrun_cell_magic\u001b[49m\u001b[43m(\u001b[49m\u001b[38;5;124;43m'\u001b[39;49m\u001b[38;5;124;43mbash\u001b[39;49m\u001b[38;5;124;43m'\u001b[39;49m\u001b[43m,\u001b[49m\u001b[43m \u001b[49m\u001b[38;5;124;43m'\u001b[39;49m\u001b[38;5;124;43m'\u001b[39;49m\u001b[43m,\u001b[49m\u001b[43m \u001b[49m\u001b[38;5;124;43m'\u001b[39;49m\u001b[38;5;124;43mecho \u001b[39;49m\u001b[38;5;130;43;01m\\'\u001b[39;49;00m\u001b[38;5;124;43m{\u001b[39;49m\u001b[38;5;124;43m\"\u001b[39;49m\u001b[38;5;124;43mexample_index\u001b[39;49m\u001b[38;5;124;43m\"\u001b[39;49m\u001b[38;5;124;43m: \u001b[39;49m\u001b[38;5;124;43m\"\u001b[39;49m\u001b[38;5;124;43mindex_folder\u001b[39;49m\u001b[38;5;124;43m\"\u001b[39;49m\u001b[38;5;124;43m}\u001b[39;49m\u001b[38;5;130;43;01m\\'\u001b[39;49;00m\u001b[38;5;124;43m > indices_paths.json\u001b[39;49m\u001b[38;5;130;43;01m\\n\u001b[39;49;00m\u001b[38;5;124;43mnpm install -g localtunnel\u001b[39;49m\u001b[38;5;130;43;01m\\n\u001b[39;49;00m\u001b[38;5;124;43m'\u001b[39;49m\u001b[43m)\u001b[49m\n",
            "File \u001b[0;32m~/miniconda3/envs/clip/lib/python3.8/site-packages/IPython/core/interactiveshell.py:2478\u001b[0m, in \u001b[0;36mInteractiveShell.run_cell_magic\u001b[0;34m(self, magic_name, line, cell)\u001b[0m\n\u001b[1;32m   2476\u001b[0m \u001b[38;5;28;01mwith\u001b[39;00m \u001b[38;5;28mself\u001b[39m\u001b[38;5;241m.\u001b[39mbuiltin_trap:\n\u001b[1;32m   2477\u001b[0m     args \u001b[38;5;241m=\u001b[39m (magic_arg_s, cell)\n\u001b[0;32m-> 2478\u001b[0m     result \u001b[38;5;241m=\u001b[39m \u001b[43mfn\u001b[49m\u001b[43m(\u001b[49m\u001b[38;5;241;43m*\u001b[39;49m\u001b[43margs\u001b[49m\u001b[43m,\u001b[49m\u001b[43m \u001b[49m\u001b[38;5;241;43m*\u001b[39;49m\u001b[38;5;241;43m*\u001b[39;49m\u001b[43mkwargs\u001b[49m\u001b[43m)\u001b[49m\n\u001b[1;32m   2480\u001b[0m \u001b[38;5;66;03m# The code below prevents the output from being displayed\u001b[39;00m\n\u001b[1;32m   2481\u001b[0m \u001b[38;5;66;03m# when using magics with decodator @output_can_be_silenced\u001b[39;00m\n\u001b[1;32m   2482\u001b[0m \u001b[38;5;66;03m# when the last Python token in the expression is a ';'.\u001b[39;00m\n\u001b[1;32m   2483\u001b[0m \u001b[38;5;28;01mif\u001b[39;00m \u001b[38;5;28mgetattr\u001b[39m(fn, magic\u001b[38;5;241m.\u001b[39mMAGIC_OUTPUT_CAN_BE_SILENCED, \u001b[38;5;28;01mFalse\u001b[39;00m):\n",
            "File \u001b[0;32m~/miniconda3/envs/clip/lib/python3.8/site-packages/IPython/core/magics/script.py:153\u001b[0m, in \u001b[0;36mScriptMagics._make_script_magic.<locals>.named_script_magic\u001b[0;34m(line, cell)\u001b[0m\n\u001b[1;32m    151\u001b[0m \u001b[38;5;28;01melse\u001b[39;00m:\n\u001b[1;32m    152\u001b[0m     line \u001b[38;5;241m=\u001b[39m script\n\u001b[0;32m--> 153\u001b[0m \u001b[38;5;28;01mreturn\u001b[39;00m \u001b[38;5;28;43mself\u001b[39;49m\u001b[38;5;241;43m.\u001b[39;49m\u001b[43mshebang\u001b[49m\u001b[43m(\u001b[49m\u001b[43mline\u001b[49m\u001b[43m,\u001b[49m\u001b[43m \u001b[49m\u001b[43mcell\u001b[49m\u001b[43m)\u001b[49m\n",
            "File \u001b[0;32m~/miniconda3/envs/clip/lib/python3.8/site-packages/IPython/core/magics/script.py:305\u001b[0m, in \u001b[0;36mScriptMagics.shebang\u001b[0;34m(self, line, cell)\u001b[0m\n\u001b[1;32m    300\u001b[0m \u001b[38;5;28;01mif\u001b[39;00m args\u001b[38;5;241m.\u001b[39mraise_error \u001b[38;5;129;01mand\u001b[39;00m p\u001b[38;5;241m.\u001b[39mreturncode \u001b[38;5;241m!=\u001b[39m \u001b[38;5;241m0\u001b[39m:\n\u001b[1;32m    301\u001b[0m     \u001b[38;5;66;03m# If we get here and p.returncode is still None, we must have\u001b[39;00m\n\u001b[1;32m    302\u001b[0m     \u001b[38;5;66;03m# killed it but not yet seen its return code. We don't wait for it,\u001b[39;00m\n\u001b[1;32m    303\u001b[0m     \u001b[38;5;66;03m# in case it's stuck in uninterruptible sleep. -9 = SIGKILL\u001b[39;00m\n\u001b[1;32m    304\u001b[0m     rc \u001b[38;5;241m=\u001b[39m p\u001b[38;5;241m.\u001b[39mreturncode \u001b[38;5;129;01mor\u001b[39;00m \u001b[38;5;241m-\u001b[39m\u001b[38;5;241m9\u001b[39m\n\u001b[0;32m--> 305\u001b[0m     \u001b[38;5;28;01mraise\u001b[39;00m CalledProcessError(rc, cell)\n",
            "\u001b[0;31mCalledProcessError\u001b[0m: Command 'b'echo \\'{\"example_index\": \"index_folder\"}\\' > indices_paths.json\\nnpm install -g localtunnel\\n'' returned non-zero exit status 127."
          ]
        }
      ],
      "source": [
        "%%bash\n",
        "echo '{\"example_index\": \"index_folder\"}' > indices_paths.json\n",
        "npm install -g localtunnel"
      ]
    },
    {
      "cell_type": "code",
      "execution_count": null,
      "metadata": {
        "id": "cUCDh4cq7RgW"
      },
      "outputs": [],
      "source": [
        "# after running the next cell, visit the localtunnel url once then go to\n",
        "# https://rom1504.github.io/clip-retrieval/?back=<your local tunnel url here>"
      ]
    },
    {
      "cell_type": "code",
      "execution_count": 1,
      "metadata": {
        "colab": {
          "base_uri": "https://localhost:8080/"
        },
        "id": "q6SaDruy6SOJ",
        "outputId": "a544d2c1-d3d0-4267-a12b-c41c3d599e1e"
      },
      "outputs": [
        {
          "name": "stdout",
          "output_type": "stream",
          "text": [
            "your url is: https://full-spiders-smoke.loca.lt\n",
            "starting boot of clip back\n",
            "warming up with batch size 1 on cuda\n",
            "done warming up in 11.051630735397339s\n",
            "/home/faheem/miniconda3/envs/clip/lib/python3.8/site-packages/huggingface_hub/file_download.py:1132: FutureWarning: `resume_download` is deprecated and will be removed in version 1.0.0. Downloads always resume when possible. If you want to force a new download, use `force_download=True`.\n",
            "  warnings.warn(\n",
            "indices loaded\n",
            " * Serving Flask app 'clip_retrieval.clip_back'\n",
            " * Debug mode: off\n",
            "\u001b[31m\u001b[1mWARNING: This is a development server. Do not use it in a production deployment. Use a production WSGI server instead.\u001b[0m\n",
            " * Running on all addresses (0.0.0.0)\n",
            " * Running on http://127.0.0.1:1234\n",
            " * Running on http://131.227.94.150:1234\n",
            "\u001b[33mPress CTRL+C to quit\u001b[0m\n",
            "10.77.193.128 - - [06/Jul/2024 15:46:37] \"\u001b[36mGET / HTTP/1.1\u001b[0m\" 304 -\n",
            "10.77.193.128 - - [06/Jul/2024 15:46:37] \"\u001b[33mGET /vendor/webcomponents-loader.js HTTP/1.1\u001b[0m\" 404 -\n",
            "10.77.193.128 - - [06/Jul/2024 15:46:37] \"\u001b[36mGET /vendor/custom-elements-es5-adapter.js HTTP/1.1\u001b[0m\" 304 -\n",
            "10.77.193.128 - - [06/Jul/2024 15:46:37] \"GET /main.b3021b6a.js HTTP/1.1\" 200 -\n",
            "10.77.193.128 - - [06/Jul/2024 15:46:37] \"GET /config.json HTTP/1.1\" 200 -\n",
            "10.77.193.128 - - [06/Jul/2024 15:46:37] \"GET /indices-list HTTP/1.1\" 200 -\n",
            "10.77.193.128 - - [06/Jul/2024 15:46:37] \"GET /indices-list HTTP/1.1\" 200 -\n",
            "10.77.193.128 - - [06/Jul/2024 15:46:37] \"GET /assets/image-search.png HTTP/1.1\" 200 -\n",
            "10.77.193.128 - - [06/Jul/2024 15:46:37] \"GET /assets/search.png HTTP/1.1\" 200 -\n",
            "10.77.193.128 - - [06/Jul/2024 15:46:37] \"\u001b[36mGET /assets/download.png HTTP/1.1\u001b[0m\" 304 -\n",
            "10.77.193.128 - - [06/Jul/2024 15:46:37] \"\u001b[33mGET /favicon.ico HTTP/1.1\u001b[0m\" 404 -\n",
            "10.77.193.128 - - [06/Jul/2024 15:46:37] \"\u001b[33mGET /favicon.ico HTTP/1.1\u001b[0m\" 404 -\n",
            "10.77.193.128 - - [06/Jul/2024 15:47:23] \"POST /knn-service HTTP/1.1\" 200 -\n",
            "10.77.193.128 - - [06/Jul/2024 15:47:23] \"POST /metadata HTTP/1.1\" 200 -\n",
            "10.77.193.128 - - [06/Jul/2024 15:47:23] \"POST /metadata HTTP/1.1\" 200 -\n",
            "[2024-07-06 15:47:31,830] ERROR in app: Exception on /knn-service [POST]\n",
            "Traceback (most recent call last):\n",
            "  File \"/home/faheem/miniconda3/envs/clip/lib/python3.8/site-packages/flask/app.py\", line 880, in full_dispatch_request\n",
            "    rv = self.dispatch_request()\n",
            "  File \"/home/faheem/miniconda3/envs/clip/lib/python3.8/site-packages/flask/app.py\", line 865, in dispatch_request\n",
            "    return self.ensure_sync(self.view_functions[rule.endpoint])(**view_args)  # type: ignore[no-any-return]\n",
            "  File \"/home/faheem/miniconda3/envs/clip/lib/python3.8/site-packages/flask_restful/__init__.py\", line 489, in wrapper\n",
            "    resp = resource(*args, **kwargs)\n",
            "  File \"/home/faheem/miniconda3/envs/clip/lib/python3.8/site-packages/flask/views.py\", line 110, in view\n",
            "    return current_app.ensure_sync(self.dispatch_request)(**kwargs)  # type: ignore[no-any-return]\n",
            "  File \"/home/faheem/miniconda3/envs/clip/lib/python3.8/site-packages/flask_restful/__init__.py\", line 604, in dispatch_request\n",
            "    resp = meth(*args, **kwargs)\n",
            "  File \"<decorator-gen-2>\", line 2, in post\n",
            "  File \"/home/faheem/miniconda3/envs/clip/lib/python3.8/site-packages/prometheus_client/context_managers.py\", line 80, in wrapped\n",
            "    return func(*args, **kwargs)\n",
            "  File \"/home/faheem/miniconda3/envs/clip/lib/python3.8/site-packages/clip_retrieval/clip_back.py\", line 492, in post\n",
            "    return self.query(\n",
            "  File \"/home/faheem/miniconda3/envs/clip/lib/python3.8/site-packages/clip_retrieval/clip_back.py\", line 455, in query\n",
            "    distances, indices = self.knn_search(\n",
            "  File \"/home/faheem/miniconda3/envs/clip/lib/python3.8/site-packages/clip_retrieval/clip_back.py\", line 362, in knn_search\n",
            "    distances, indices, embeddings = index.search_and_reconstruct(query, num_result_ids)\n",
            "AttributeError: 'NoneType' object has no attribute 'search_and_reconstruct'\n",
            "10.77.193.128 - - [06/Jul/2024 15:47:31] \"\u001b[35m\u001b[1mPOST /knn-service HTTP/1.1\u001b[0m\" 500 -\n",
            "10.77.193.128 - - [06/Jul/2024 15:48:01] \"POST /knn-service HTTP/1.1\" 200 -\n",
            "10.77.193.128 - - [06/Jul/2024 15:48:01] \"POST /metadata HTTP/1.1\" 200 -\n",
            "10.77.193.128 - - [06/Jul/2024 15:48:12] \"POST /knn-service HTTP/1.1\" 200 -\n",
            "10.77.193.128 - - [06/Jul/2024 15:48:12] \"POST /metadata HTTP/1.1\" 200 -\n",
            "10.77.193.128 - - [06/Jul/2024 15:48:50] \"POST /metadata HTTP/1.1\" 200 -\n",
            "10.77.193.128 - - [06/Jul/2024 15:48:50] \"POST /metadata HTTP/1.1\" 200 -\n",
            "10.77.193.128 - - [06/Jul/2024 15:48:51] \"POST /metadata HTTP/1.1\" 200 -\n",
            "10.77.193.128 - - [06/Jul/2024 15:48:51] \"POST /metadata HTTP/1.1\" 200 -\n",
            "10.77.193.128 - - [06/Jul/2024 15:48:52] \"POST /metadata HTTP/1.1\" 200 -\n",
            "10.77.193.128 - - [06/Jul/2024 15:48:53] \"POST /metadata HTTP/1.1\" 200 -\n",
            "^C\n"
          ]
        }
      ],
      "source": [
        "from threading import Thread\n",
        "\n",
        "def app():\n",
        "  !clip-retrieval back --port 1234 --indices-paths indices_paths.json\n",
        "\n",
        "if __name__ == '__main__':\n",
        "    t1 = Thread(target = app)\n",
        "    a = t1.start()\n",
        "    !lt --port 1234"
      ]
    },
    {
      "cell_type": "code",
      "execution_count": null,
      "metadata": {},
      "outputs": [],
      "source": []
    }
  ],
  "metadata": {
    "colab": {
      "name": "clip-retrieval-getting-started.ipynb",
      "provenance": []
    },
    "interpreter": {
      "hash": "843de08df30066b821f0437d83317f7e657c9d58c210bb967a72474dd7dcb832"
    },
    "kernelspec": {
      "display_name": "Python 3.8.10 64-bit ('.env': venv)",
      "name": "python3"
    },
    "language_info": {
      "codemirror_mode": {
        "name": "ipython",
        "version": 3
      },
      "file_extension": ".py",
      "mimetype": "text/x-python",
      "name": "python",
      "nbconvert_exporter": "python",
      "pygments_lexer": "ipython3",
      "version": "3.8.undefined"
    },
    "orig_nbformat": 2
  },
  "nbformat": 4,
  "nbformat_minor": 2
}
